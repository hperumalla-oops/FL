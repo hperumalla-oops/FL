{
 "cells": [
  {
   "cell_type": "code",
   "execution_count": null,
   "id": "79f3285b-4203-461f-b236-81054c9789e1",
   "metadata": {},
   "outputs": [],
   "source": [
    "import flwr as fl\n",
    "import pandas as pd\n",
    "import numpy as np\n",
    "from sklearn.model_selection import train_test_split\n",
    "from model import create_model\n",
    "\n",
    "def load_data(path):\n",
    "    df = pd.read_csv(path)\n",
    "    X = df.iloc[:, :-1].values\n",
    "    y = df.iloc[:, -1].values\n",
    "    return train_test_split(X, y, test_size=0.2, random_state=42)\n",
    "\n"
   ]
  },
  {
   "cell_type": "code",
   "execution_count": null,
   "id": "ecf23bb5-f97e-4c2b-b269-04a3e5ff4c65",
   "metadata": {},
   "outputs": [],
   "source": [
    "! pip install seaborn"
   ]
  },
  {
   "cell_type": "code",
   "execution_count": null,
   "id": "6c233bc8-573c-42a1-b70d-a1180c3ad664",
   "metadata": {},
   "outputs": [],
   "source": [
    "import matplotlib.pyplot as plt\n",
    "import numpy as np\n",
    "import pandas as pd\n",
    "import seaborn as sns\n",
    "\n",
    "from sklearn.metrics import classification_report, recall_score, accuracy_score\n",
    "# from sklearn.model_selection import GridSearchCV\n",
    "# from sklearn.model_selection import train_test_split\n",
    "\n",
    "from keras.models import Sequential\n",
    "from keras.layers import Dense, Dropout, BatchNormalization\n",
    "\n",
    "from keras.optimizers import Adam\n",
    "from tensorflow.keras.callbacks import EarlyStopping\n",
    "\n",
    "from sklearn.model_selection import train_test_split"
   ]
  },
  {
   "cell_type": "code",
   "execution_count": null,
   "id": "18b60e99-7875-49ce-aeae-9e258fea675b",
   "metadata": {},
   "outputs": [],
   "source": [
    "class ECGClient(fl.client.NumPyClient):\n",
    "    def __init__(self, model, x_train, y_train, x_test, y_test):\n",
    "        self.model = model\n",
    "        self.x_train = x_train\n",
    "        self.y_train = y_train\n",
    "        self.x_test = x_test\n",
    "        self.y_test = y_test\n",
    "\n",
    "    def get_parameters(self, config):\n",
    "        return self.model.get_weights()\n",
    "\n",
    "    def fit(self, parameters, config):\n",
    "        self.model.set_weights(parameters)\n",
    "        self.model.fit(self.x_train, self.y_train, epochs=1, batch_size=32, verbose=0)\n",
    "        return self.model.get_weights(), len(self.x_train), {}\n",
    "\n",
    "    def evaluate(self, parameters, config):\n",
    "        self.model.set_weights(parameters)\n",
    "        loss, acc = self.model.evaluate(self.x_test, self.y_test, verbose=0)\n",
    "        return loss, len(self.x_test), {\"accuracy\": acc}"
   ]
  },
  {
   "cell_type": "code",
   "execution_count": null,
   "id": "983924eb-a347-4665-8f8c-436edd9530f2",
   "metadata": {},
   "outputs": [],
   "source": [
    "# Run client\n",
    "def run_client(client_id):\n",
    "    data_path = f\"client{client_id}_data.csv\"\n",
    "    x_train, x_test, y_train, y_test = load_data(data_path)\n",
    "\n",
    "    train_df.iloc[:, -1].value_counts().plot(kind='pie')\n",
    "    plt.title('Classes Frequency')\n",
    "\n",
    "\n",
    "    model = create_model()\n",
    "    client = ECGClient(model, x_train, y_train, x_test, y_test)\n",
    "    \n",
    "    fl.client.start_numpy_client(server_address=\"localhost:8081\", client=client)"
   ]
  },
  {
   "cell_type": "code",
   "execution_count": null,
   "id": "f5435a3f-a89a-4171-82f1-35809c48670a",
   "metadata": {},
   "outputs": [],
   "source": [
    "run_client(2)"
   ]
  }
 ],
 "metadata": {
  "kernelspec": {
   "display_name": "python 310 (tf<211)",
   "language": "python",
   "name": "py310"
  },
  "language_info": {
   "codemirror_mode": {
    "name": "ipython",
    "version": 3
   },
   "file_extension": ".py",
   "mimetype": "text/x-python",
   "name": "python",
   "nbconvert_exporter": "python",
   "pygments_lexer": "ipython3",
   "version": "3.10.16"
  }
 },
 "nbformat": 4,
 "nbformat_minor": 5
}
